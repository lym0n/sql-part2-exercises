{
    "metadata": {
        "kernelspec": {
            "name": "SQL",
            "display_name": "SQL",
            "language": "sql"
        },
        "language_info": {
            "name": "sql",
            "version": ""
        }
    },
    "nbformat_minor": 2,
    "nbformat": 4,
    "cells": [
        {
            "cell_type": "markdown",
            "source": [
                "# Exercises\n",
                "\n",
                "To get started with the exercises, go ahead and take a look at RideShareDB. This database was created with data from a dataset on [Kaggle](https://www.kaggle.com/fivethirtyeight/uber-pickups-in-new-york-city). The dataset was made using data obtained from the NYC Taxi and Limosine Commission or TLC. TLC tracks this data by base and even rideshare companies such as Uber and Lyft have assigned bases that each pickup must be attributed to. For the exercises, we will be using the `other-FHV-services-jan-july15` and `lyft` tables in RideShareDB. These tables include the data for each pickup attributed to a few other For-Hire Vehicles (FHV) services and Lyft. These tables do not include any data from Uber.\n",
                "\n",
                "## String Functions\n",
                "\n",
                "Write a query that returns the last 3 characters of the base name in `other-FHV-services-jan-july15`. Do you see anything that is a common abbreviation at the end of business names?"
            ],
            "metadata": {
                "azdata_cell_guid": "2b5a5976-8b51-4e24-a08d-234ef97f379a"
            },
            "attachments": {}
        },
        {
            "cell_type": "markdown",
            "source": [
                "answer: \"inc\", \"nc.\" \"orp\" and \"llc\" are all common last three letter of the base nambes in this table"
            ],
            "metadata": {
                "azdata_cell_guid": "96aa00e3-e898-411b-82fe-afe510a3371a"
            },
            "attachments": {}
        },
        {
            "cell_type": "code",
            "source": [
                "\r\n",
                "SELECT top 100 RIGHT(Base_Name, 3) \r\n",
                "FROM other_FHV_services_jan_aug_2015"
            ],
            "metadata": {
                "azdata_cell_guid": "392f7b72-9acf-44a4-bb53-6c29090c5d75",
                "tags": [],
                "language": "sql"
            },
            "outputs": [
                {
                    "output_type": "display_data",
                    "data": {
                        "text/html": "(100 rows affected)"
                    },
                    "metadata": {}
                },
                {
                    "output_type": "display_data",
                    "data": {
                        "text/html": "Total execution time: 00:00:00.075"
                    },
                    "metadata": {}
                },
                {
                    "output_type": "execute_result",
                    "metadata": {},
                    "execution_count": 4,
                    "data": {
                        "application/vnd.dataresource+json": {
                            "schema": {
                                "fields": [
                                    {
                                        "name": "(No column name)"
                                    }
                                ]
                            },
                            "data": [
                                {
                                    "0": "INC"
                                },
                                {
                                    "0": "INC"
                                },
                                {
                                    "0": "ORP"
                                },
                                {
                                    "0": "INC"
                                },
                                {
                                    "0": "NC."
                                },
                                {
                                    "0": "INC"
                                },
                                {
                                    "0": "NC."
                                },
                                {
                                    "0": "NC."
                                },
                                {
                                    "0": "DIO"
                                },
                                {
                                    "0": "RP."
                                },
                                {
                                    "0": "NC."
                                },
                                {
                                    "0": "INC"
                                },
                                {
                                    "0": "LTD"
                                },
                                {
                                    "0": "ORP"
                                },
                                {
                                    "0": "INC"
                                },
                                {
                                    "0": "NC."
                                },
                                {
                                    "0": "LLC"
                                },
                                {
                                    "0": "INC"
                                },
                                {
                                    "0": "NC."
                                },
                                {
                                    "0": "NC."
                                },
                                {
                                    "0": "ORP"
                                },
                                {
                                    "0": "INC"
                                },
                                {
                                    "0": "INC"
                                },
                                {
                                    "0": "INC"
                                },
                                {
                                    "0": "INC"
                                },
                                {
                                    "0": "LLC"
                                },
                                {
                                    "0": "INC"
                                },
                                {
                                    "0": "INC"
                                },
                                {
                                    "0": "INC"
                                },
                                {
                                    "0": "INC"
                                },
                                {
                                    "0": "NC."
                                },
                                {
                                    "0": "NC."
                                },
                                {
                                    "0": "INC"
                                },
                                {
                                    "0": "INC"
                                },
                                {
                                    "0": "NC."
                                },
                                {
                                    "0": "ORP"
                                },
                                {
                                    "0": "INC"
                                },
                                {
                                    "0": "RP."
                                },
                                {
                                    "0": "SVC"
                                },
                                {
                                    "0": "NC."
                                },
                                {
                                    "0": "NC."
                                },
                                {
                                    "0": "INC"
                                },
                                {
                                    "0": "RP."
                                },
                                {
                                    "0": "TED"
                                },
                                {
                                    "0": "NC."
                                },
                                {
                                    "0": "NC."
                                },
                                {
                                    "0": "INC"
                                },
                                {
                                    "0": "NC."
                                },
                                {
                                    "0": "LLC"
                                },
                                {
                                    "0": "NC."
                                },
                                {
                                    "0": "NC."
                                },
                                {
                                    "0": "NC."
                                },
                                {
                                    "0": "NC."
                                },
                                {
                                    "0": "RP."
                                },
                                {
                                    "0": "NC."
                                },
                                {
                                    "0": "INC"
                                },
                                {
                                    "0": "LLC"
                                },
                                {
                                    "0": "INC"
                                },
                                {
                                    "0": "INC"
                                },
                                {
                                    "0": "ORP"
                                },
                                {
                                    "0": "INC"
                                },
                                {
                                    "0": "NC."
                                },
                                {
                                    "0": "INC"
                                },
                                {
                                    "0": "NC."
                                },
                                {
                                    "0": "NC."
                                },
                                {
                                    "0": "DIO"
                                },
                                {
                                    "0": "RP."
                                },
                                {
                                    "0": "NC."
                                },
                                {
                                    "0": "INC"
                                },
                                {
                                    "0": "LTD"
                                },
                                {
                                    "0": "ORP"
                                },
                                {
                                    "0": "INC"
                                },
                                {
                                    "0": "NC."
                                },
                                {
                                    "0": "LLC"
                                },
                                {
                                    "0": "INC"
                                },
                                {
                                    "0": "NC."
                                },
                                {
                                    "0": "NC."
                                },
                                {
                                    "0": "ORP"
                                },
                                {
                                    "0": "INC"
                                },
                                {
                                    "0": "INC"
                                },
                                {
                                    "0": "INC"
                                },
                                {
                                    "0": "INC"
                                },
                                {
                                    "0": "LLC"
                                },
                                {
                                    "0": "INC"
                                },
                                {
                                    "0": "INC"
                                },
                                {
                                    "0": "INC"
                                },
                                {
                                    "0": "INC"
                                },
                                {
                                    "0": "NC."
                                },
                                {
                                    "0": "NC."
                                },
                                {
                                    "0": "INC"
                                },
                                {
                                    "0": "INC"
                                },
                                {
                                    "0": "NC."
                                },
                                {
                                    "0": "ORP"
                                },
                                {
                                    "0": "INC"
                                },
                                {
                                    "0": "RP."
                                },
                                {
                                    "0": "SVC"
                                },
                                {
                                    "0": "NC."
                                },
                                {
                                    "0": "NC."
                                },
                                {
                                    "0": "INC"
                                },
                                {
                                    "0": "NC."
                                }
                            ]
                        },
                        "text/html": [
                            "<table>",
                            "<tr><th>(No column name)</th></tr>",
                            "<tr><td>INC</td></tr>",
                            "<tr><td>INC</td></tr>",
                            "<tr><td>ORP</td></tr>",
                            "<tr><td>INC</td></tr>",
                            "<tr><td>NC.</td></tr>",
                            "<tr><td>INC</td></tr>",
                            "<tr><td>NC.</td></tr>",
                            "<tr><td>NC.</td></tr>",
                            "<tr><td>DIO</td></tr>",
                            "<tr><td>RP.</td></tr>",
                            "<tr><td>NC.</td></tr>",
                            "<tr><td>INC</td></tr>",
                            "<tr><td>LTD</td></tr>",
                            "<tr><td>ORP</td></tr>",
                            "<tr><td>INC</td></tr>",
                            "<tr><td>NC.</td></tr>",
                            "<tr><td>LLC</td></tr>",
                            "<tr><td>INC</td></tr>",
                            "<tr><td>NC.</td></tr>",
                            "<tr><td>NC.</td></tr>",
                            "<tr><td>ORP</td></tr>",
                            "<tr><td>INC</td></tr>",
                            "<tr><td>INC</td></tr>",
                            "<tr><td>INC</td></tr>",
                            "<tr><td>INC</td></tr>",
                            "<tr><td>LLC</td></tr>",
                            "<tr><td>INC</td></tr>",
                            "<tr><td>INC</td></tr>",
                            "<tr><td>INC</td></tr>",
                            "<tr><td>INC</td></tr>",
                            "<tr><td>NC.</td></tr>",
                            "<tr><td>NC.</td></tr>",
                            "<tr><td>INC</td></tr>",
                            "<tr><td>INC</td></tr>",
                            "<tr><td>NC.</td></tr>",
                            "<tr><td>ORP</td></tr>",
                            "<tr><td>INC</td></tr>",
                            "<tr><td>RP.</td></tr>",
                            "<tr><td>SVC</td></tr>",
                            "<tr><td>NC.</td></tr>",
                            "<tr><td>NC.</td></tr>",
                            "<tr><td>INC</td></tr>",
                            "<tr><td>RP.</td></tr>",
                            "<tr><td>TED</td></tr>",
                            "<tr><td>NC.</td></tr>",
                            "<tr><td>NC.</td></tr>",
                            "<tr><td>INC</td></tr>",
                            "<tr><td>NC.</td></tr>",
                            "<tr><td>LLC</td></tr>",
                            "<tr><td>NC.</td></tr>",
                            "<tr><td>NC.</td></tr>",
                            "<tr><td>NC.</td></tr>",
                            "<tr><td>NC.</td></tr>",
                            "<tr><td>RP.</td></tr>",
                            "<tr><td>NC.</td></tr>",
                            "<tr><td>INC</td></tr>",
                            "<tr><td>LLC</td></tr>",
                            "<tr><td>INC</td></tr>",
                            "<tr><td>INC</td></tr>",
                            "<tr><td>ORP</td></tr>",
                            "<tr><td>INC</td></tr>",
                            "<tr><td>NC.</td></tr>",
                            "<tr><td>INC</td></tr>",
                            "<tr><td>NC.</td></tr>",
                            "<tr><td>NC.</td></tr>",
                            "<tr><td>DIO</td></tr>",
                            "<tr><td>RP.</td></tr>",
                            "<tr><td>NC.</td></tr>",
                            "<tr><td>INC</td></tr>",
                            "<tr><td>LTD</td></tr>",
                            "<tr><td>ORP</td></tr>",
                            "<tr><td>INC</td></tr>",
                            "<tr><td>NC.</td></tr>",
                            "<tr><td>LLC</td></tr>",
                            "<tr><td>INC</td></tr>",
                            "<tr><td>NC.</td></tr>",
                            "<tr><td>NC.</td></tr>",
                            "<tr><td>ORP</td></tr>",
                            "<tr><td>INC</td></tr>",
                            "<tr><td>INC</td></tr>",
                            "<tr><td>INC</td></tr>",
                            "<tr><td>INC</td></tr>",
                            "<tr><td>LLC</td></tr>",
                            "<tr><td>INC</td></tr>",
                            "<tr><td>INC</td></tr>",
                            "<tr><td>INC</td></tr>",
                            "<tr><td>INC</td></tr>",
                            "<tr><td>NC.</td></tr>",
                            "<tr><td>NC.</td></tr>",
                            "<tr><td>INC</td></tr>",
                            "<tr><td>INC</td></tr>",
                            "<tr><td>NC.</td></tr>",
                            "<tr><td>ORP</td></tr>",
                            "<tr><td>INC</td></tr>",
                            "<tr><td>RP.</td></tr>",
                            "<tr><td>SVC</td></tr>",
                            "<tr><td>NC.</td></tr>",
                            "<tr><td>NC.</td></tr>",
                            "<tr><td>INC</td></tr>",
                            "<tr><td>NC.</td></tr>",
                            "</table>"
                        ]
                    }
                }
            ],
            "execution_count": 4
        },
        {
            "cell_type": "markdown",
            "source": [
                "The number of trips and the number of pickups are both stored as strings in `other-FHV-services-jan-july15`. This is because the data provided included spaces in some of the numbers. Write a query that returns the location of spaces in both of these columns."
            ],
            "metadata": {
                "azdata_cell_guid": "6c206898-77f4-4357-8d17-33192980f45d"
            },
            "attachments": {}
        },
        {
            "cell_type": "code",
            "source": [
                "-- how do you include two columns? and also, which column has \"number of pickups\" i see \"pick up date\" and \"number of vehicles\" so i went with the latter...\r\n",
                "SELECT top 10 CHARINDEX(' ', number_of_trips) as 'Space Location in Trips', \r\n",
                "CHARINDEX(' ', number_of_vehicles) as 'Space Location in Vehicles'\r\n",
                "\r\n",
                "FROM other_FHV_services_jan_aug_2015"
            ],
            "metadata": {
                "azdata_cell_guid": "3ba84014-650c-42d6-b1ae-d32010fa4854",
                "language": "sql"
            },
            "outputs": [
                {
                    "output_type": "display_data",
                    "data": {
                        "text/html": "(10 rows affected)"
                    },
                    "metadata": {}
                },
                {
                    "output_type": "display_data",
                    "data": {
                        "text/html": "Total execution time: 00:00:00.053"
                    },
                    "metadata": {}
                },
                {
                    "output_type": "execute_result",
                    "metadata": {},
                    "execution_count": 63,
                    "data": {
                        "application/vnd.dataresource+json": {
                            "schema": {
                                "fields": [
                                    {
                                        "name": "Space Location in Trips"
                                    },
                                    {
                                        "name": "Space Location in Vehicles"
                                    }
                                ]
                            },
                            "data": [
                                {
                                    "0": "3",
                                    "1": "3"
                                },
                                {
                                    "0": "3",
                                    "1": "3"
                                },
                                {
                                    "0": "4",
                                    "1": "3"
                                },
                                {
                                    "0": "3",
                                    "1": "2"
                                },
                                {
                                    "0": "4",
                                    "1": "3"
                                },
                                {
                                    "0": "4",
                                    "1": "3"
                                },
                                {
                                    "0": "3",
                                    "1": "3"
                                },
                                {
                                    "0": "1",
                                    "1": "4"
                                },
                                {
                                    "0": "4",
                                    "1": "4"
                                },
                                {
                                    "0": "3",
                                    "1": "3"
                                }
                            ]
                        },
                        "text/html": [
                            "<table>",
                            "<tr><th>Space Location in Trips</th><th>Space Location in Vehicles</th></tr>",
                            "<tr><td>3</td><td>3</td></tr>",
                            "<tr><td>3</td><td>3</td></tr>",
                            "<tr><td>4</td><td>3</td></tr>",
                            "<tr><td>3</td><td>2</td></tr>",
                            "<tr><td>4</td><td>3</td></tr>",
                            "<tr><td>4</td><td>3</td></tr>",
                            "<tr><td>3</td><td>3</td></tr>",
                            "<tr><td>1</td><td>4</td></tr>",
                            "<tr><td>4</td><td>4</td></tr>",
                            "<tr><td>3</td><td>3</td></tr>",
                            "</table>"
                        ]
                    }
                }
            ],
            "execution_count": 63
        },
        {
            "cell_type": "markdown",
            "source": [
                "## Date Functions\n",
                "\n",
                "For ``other-FHV-services-jan-july15``, display the name of month of the pickup date and order in descending order. Is the result of this query what you expected?"
            ],
            "metadata": {
                "azdata_cell_guid": "b138ac53-9fff-4320-9ff1-08717873f2ee"
            },
            "attachments": {}
        },
        {
            "cell_type": "markdown",
            "source": [
                "answer: this is what I expected because the table's name indicates it tracked January through August of 2015 so this makes sense to see August as the top month when its in descending order. \\*note, the table is not named \"<span style=\"color: rgb(163, 21, 21); font-family: Menlo, Monaco, Consolas, &quot;Droid Sans Mono&quot;, &quot;Courier New&quot;, monospace, &quot;Droid Sans Fallback&quot;; font-size: 12px;\">other-FHV-services-jan-july15\" in the data we have.</span>"
            ],
            "metadata": {
                "azdata_cell_guid": "14eed8d9-322a-439f-b8d1-505955f25449"
            },
            "attachments": {}
        },
        {
            "cell_type": "code",
            "source": [
                "SELECT top 10 DATENAME(MONTH, Pick_Up_Date) \r\n",
                "from other_FHV_services_jan_aug_2015\r\n",
                "order BY Pick_Up_Date DESC"
            ],
            "metadata": {
                "azdata_cell_guid": "8abd404c-a360-4b10-8d6b-8b34ef763bc7",
                "tags": [],
                "language": "sql"
            },
            "outputs": [
                {
                    "output_type": "display_data",
                    "data": {
                        "text/html": "(10 rows affected)"
                    },
                    "metadata": {}
                },
                {
                    "output_type": "display_data",
                    "data": {
                        "text/html": "Total execution time: 00:00:00.057"
                    },
                    "metadata": {}
                },
                {
                    "output_type": "execute_result",
                    "metadata": {},
                    "execution_count": 62,
                    "data": {
                        "application/vnd.dataresource+json": {
                            "schema": {
                                "fields": [
                                    {
                                        "name": "(No column name)"
                                    }
                                ]
                            },
                            "data": [
                                {
                                    "0": "August"
                                },
                                {
                                    "0": "August"
                                },
                                {
                                    "0": "August"
                                },
                                {
                                    "0": "August"
                                },
                                {
                                    "0": "August"
                                },
                                {
                                    "0": "August"
                                },
                                {
                                    "0": "August"
                                },
                                {
                                    "0": "August"
                                },
                                {
                                    "0": "August"
                                },
                                {
                                    "0": "August"
                                }
                            ]
                        },
                        "text/html": [
                            "<table>",
                            "<tr><th>(No column name)</th></tr>",
                            "<tr><td>August</td></tr>",
                            "<tr><td>August</td></tr>",
                            "<tr><td>August</td></tr>",
                            "<tr><td>August</td></tr>",
                            "<tr><td>August</td></tr>",
                            "<tr><td>August</td></tr>",
                            "<tr><td>August</td></tr>",
                            "<tr><td>August</td></tr>",
                            "<tr><td>August</td></tr>",
                            "<tr><td>August</td></tr>",
                            "</table>"
                        ]
                    }
                }
            ],
            "execution_count": 62
        },
        {
            "cell_type": "markdown",
            "source": [
                "Using `other-FHV-services-jan-july15`, write a query that returns the day number of the pickup date and month name and orders it in ascending order by day number."
            ],
            "metadata": {
                "azdata_cell_guid": "aa6bf15c-b847-45f0-ba0d-79c7636c4578"
            },
            "attachments": {}
        },
        {
            "cell_type": "code",
            "source": [
                "Select top 10 DATENAME(DAY, pick_up_date) as \"Day\"\r\n",
                ",DATENAME(MONTH, pick_up_date) as \"Month\"\r\n",
                "\r\n",
                "from other_FHV_services_jan_aug_2015\r\n",
                "\r\n",
                "ORDER BY Pick_Up_Date"
            ],
            "metadata": {
                "azdata_cell_guid": "46dcd617-8dcf-4c15-b5fa-c0ec04f2bf29",
                "language": "sql"
            },
            "outputs": [
                {
                    "output_type": "display_data",
                    "data": {
                        "text/html": "(10 rows affected)"
                    },
                    "metadata": {}
                },
                {
                    "output_type": "display_data",
                    "data": {
                        "text/html": "Total execution time: 00:00:00.060"
                    },
                    "metadata": {}
                },
                {
                    "output_type": "execute_result",
                    "metadata": {},
                    "execution_count": 61,
                    "data": {
                        "application/vnd.dataresource+json": {
                            "schema": {
                                "fields": [
                                    {
                                        "name": "Day"
                                    },
                                    {
                                        "name": "Month"
                                    }
                                ]
                            },
                            "data": [
                                {
                                    "0": "1",
                                    "1": "January"
                                },
                                {
                                    "0": "1",
                                    "1": "January"
                                },
                                {
                                    "0": "1",
                                    "1": "January"
                                },
                                {
                                    "0": "1",
                                    "1": "January"
                                },
                                {
                                    "0": "1",
                                    "1": "January"
                                },
                                {
                                    "0": "1",
                                    "1": "January"
                                },
                                {
                                    "0": "1",
                                    "1": "January"
                                },
                                {
                                    "0": "1",
                                    "1": "January"
                                },
                                {
                                    "0": "1",
                                    "1": "January"
                                },
                                {
                                    "0": "1",
                                    "1": "January"
                                }
                            ]
                        },
                        "text/html": [
                            "<table>",
                            "<tr><th>Day</th><th>Month</th></tr>",
                            "<tr><td>1</td><td>January</td></tr>",
                            "<tr><td>1</td><td>January</td></tr>",
                            "<tr><td>1</td><td>January</td></tr>",
                            "<tr><td>1</td><td>January</td></tr>",
                            "<tr><td>1</td><td>January</td></tr>",
                            "<tr><td>1</td><td>January</td></tr>",
                            "<tr><td>1</td><td>January</td></tr>",
                            "<tr><td>1</td><td>January</td></tr>",
                            "<tr><td>1</td><td>January</td></tr>",
                            "<tr><td>1</td><td>January</td></tr>",
                            "</table>"
                        ]
                    }
                }
            ],
            "execution_count": 61
        },
        {
            "cell_type": "markdown",
            "source": [
                "## Aggregate Functions\n",
                "\n",
                "Write a query that returns the most easterly Lyft pickup."
            ],
            "metadata": {
                "azdata_cell_guid": "348342a2-6039-43b1-8461-841288deee94"
            },
            "attachments": {}
        },
        {
            "cell_type": "code",
            "source": [
                "-- we have lattitude and longitute, it looks like, but how do i now figure out most in east, north etc. \r\n",
                "-- longitute = vertical, east +, west -; latitude = horizantal, north+, south-\r\n",
                "\r\n",
                "SELECT MAX(start_lng)\r\n",
                "FROM lyft\r\n",
                "-- WHERE start_lng > 0"
            ],
            "metadata": {
                "azdata_cell_guid": "f2cb1b41-c92a-47ea-bd77-7bafd78af1d4",
                "tags": [],
                "language": "sql"
            },
            "outputs": [
                {
                    "output_type": "display_data",
                    "data": {
                        "text/html": "Warning: Null value is eliminated by an aggregate or other SET operation."
                    },
                    "metadata": {}
                },
                {
                    "output_type": "display_data",
                    "data": {
                        "text/html": "(1 row affected)"
                    },
                    "metadata": {}
                },
                {
                    "output_type": "display_data",
                    "data": {
                        "text/html": "Total execution time: 00:00:00.082"
                    },
                    "metadata": {}
                },
                {
                    "output_type": "execute_result",
                    "metadata": {},
                    "execution_count": 81,
                    "data": {
                        "application/vnd.dataresource+json": {
                            "schema": {
                                "fields": [
                                    {
                                        "name": "(No column name)"
                                    }
                                ]
                            },
                            "data": [
                                {
                                    "0": "-73.72315"
                                }
                            ]
                        },
                        "text/html": [
                            "<table>",
                            "<tr><th>(No column name)</th></tr>",
                            "<tr><td>-73.72315</td></tr>",
                            "</table>"
                        ]
                    }
                }
            ],
            "execution_count": 81
        },
        {
            "cell_type": "code",
            "source": [
                "SELECT top 1 *\r\n",
                "FROM lyft\r\n",
                "-- WHERE start_lng > 0\r\n",
                "ORDER by start_lng DESC\r\n",
                ""
            ],
            "metadata": {
                "azdata_cell_guid": "bbf09c88-fbf7-4377-9dfd-eabe338861d0",
                "language": "sql",
                "tags": []
            },
            "outputs": [
                {
                    "output_type": "display_data",
                    "data": {
                        "text/html": "(1 row affected)"
                    },
                    "metadata": {}
                },
                {
                    "output_type": "display_data",
                    "data": {
                        "text/html": "Total execution time: 00:00:00.139"
                    },
                    "metadata": {}
                },
                {
                    "output_type": "execute_result",
                    "metadata": {},
                    "execution_count": 77,
                    "data": {
                        "application/vnd.dataresource+json": {
                            "schema": {
                                "fields": [
                                    {
                                        "name": "time_of_trip"
                                    },
                                    {
                                        "name": "start_lat"
                                    },
                                    {
                                        "name": "start_lng"
                                    }
                                ]
                            },
                            "data": [
                                {
                                    "0": "2014-08-13 23:25:00.0000000",
                                    "1": "40.73252",
                                    "2": "-73.72315"
                                }
                            ]
                        },
                        "text/html": [
                            "<table>",
                            "<tr><th>time_of_trip</th><th>start_lat</th><th>start_lng</th></tr>",
                            "<tr><td>2014-08-13 23:25:00.0000000</td><td>40.73252</td><td>-73.72315</td></tr>",
                            "</table>"
                        ]
                    }
                }
            ],
            "execution_count": 77
        },
        {
            "cell_type": "code",
            "source": [
                "SELECT top 10 start_lng\r\n",
                "FROM lyft\r\n",
                "ORDER BY start_lng "
            ],
            "metadata": {
                "language": "sql",
                "azdata_cell_guid": "a1e3b21e-30b0-4a79-9603-8537fff6b75d"
            },
            "outputs": [
                {
                    "output_type": "display_data",
                    "data": {
                        "text/html": "(10 rows affected)"
                    },
                    "metadata": {}
                },
                {
                    "output_type": "display_data",
                    "data": {
                        "text/html": "Total execution time: 00:00:00.114"
                    },
                    "metadata": {}
                },
                {
                    "output_type": "execute_result",
                    "metadata": {},
                    "execution_count": 75,
                    "data": {
                        "application/vnd.dataresource+json": {
                            "schema": {
                                "fields": [
                                    {
                                        "name": "start_lng"
                                    }
                                ]
                            },
                            "data": [
                                {
                                    "0": "NULL"
                                },
                                {
                                    "0": "-74.22689"
                                },
                                {
                                    "0": "-74.20857"
                                },
                                {
                                    "0": "-74.19261"
                                },
                                {
                                    "0": "-74.19208"
                                },
                                {
                                    "0": "-74.19087"
                                },
                                {
                                    "0": "-74.18974"
                                },
                                {
                                    "0": "-74.18909"
                                },
                                {
                                    "0": "-74.18694"
                                },
                                {
                                    "0": "-74.18683"
                                }
                            ]
                        },
                        "text/html": [
                            "<table>",
                            "<tr><th>start_lng</th></tr>",
                            "<tr><td>NULL</td></tr>",
                            "<tr><td>-74.22689</td></tr>",
                            "<tr><td>-74.20857</td></tr>",
                            "<tr><td>-74.19261</td></tr>",
                            "<tr><td>-74.19208</td></tr>",
                            "<tr><td>-74.19087</td></tr>",
                            "<tr><td>-74.18974</td></tr>",
                            "<tr><td>-74.18909</td></tr>",
                            "<tr><td>-74.18694</td></tr>",
                            "<tr><td>-74.18683</td></tr>",
                            "</table>"
                        ]
                    }
                }
            ],
            "execution_count": 75
        },
        {
            "cell_type": "markdown",
            "source": [
                "Write a query the returns the most northerly Lyft pickup."
            ],
            "metadata": {
                "azdata_cell_guid": "bd589862-044d-4909-8565-8aa4771d9c00"
            },
            "attachments": {}
        },
        {
            "cell_type": "code",
            "source": [
                "SELECT top 1 *\r\n",
                "FROM lyft\r\n",
                "ORDER by start_lat DESC\r\n",
                ""
            ],
            "metadata": {
                "azdata_cell_guid": "189b7c25-0dfa-4ca0-a683-d402b3875abd",
                "language": "sql"
            },
            "outputs": [
                {
                    "output_type": "display_data",
                    "data": {
                        "text/html": "(1 row affected)"
                    },
                    "metadata": {}
                },
                {
                    "output_type": "display_data",
                    "data": {
                        "text/html": "Total execution time: 00:00:00.130"
                    },
                    "metadata": {}
                },
                {
                    "output_type": "execute_result",
                    "metadata": {},
                    "execution_count": 82,
                    "data": {
                        "application/vnd.dataresource+json": {
                            "schema": {
                                "fields": [
                                    {
                                        "name": "time_of_trip"
                                    },
                                    {
                                        "name": "start_lat"
                                    },
                                    {
                                        "name": "start_lng"
                                    }
                                ]
                            },
                            "data": [
                                {
                                    "0": "2014-08-23 06:06:00.0000000",
                                    "1": "40.93562",
                                    "2": "-73.89887"
                                }
                            ]
                        },
                        "text/html": [
                            "<table>",
                            "<tr><th>time_of_trip</th><th>start_lat</th><th>start_lng</th></tr>",
                            "<tr><td>2014-08-23 06:06:00.0000000</td><td>40.93562</td><td>-73.89887</td></tr>",
                            "</table>"
                        ]
                    }
                }
            ],
            "execution_count": 82
        },
        {
            "cell_type": "markdown",
            "source": [
                "Using ``other-FHV-services-jan-july15``, write a query that connects the the base number and the base name in a string that uses the following format: base\\_number: base\\_name."
            ],
            "metadata": {
                "azdata_cell_guid": "674f8758-14bf-4712-b029-0ad0447617fb"
            },
            "attachments": {}
        },
        {
            "cell_type": "code",
            "source": [
                "SELECT top 10 CONCAT_WS(': ', base_number, base_name)\r\n",
                "\r\n",
                "FROM other_FHV_services_jan_aug_2015"
            ],
            "metadata": {
                "azdata_cell_guid": "f6f4b247-63c0-4997-8769-204e37a55c08",
                "language": "sql"
            },
            "outputs": [
                {
                    "output_type": "display_data",
                    "data": {
                        "text/html": "(10 rows affected)"
                    },
                    "metadata": {}
                },
                {
                    "output_type": "display_data",
                    "data": {
                        "text/html": "Total execution time: 00:00:00.051"
                    },
                    "metadata": {}
                },
                {
                    "output_type": "execute_result",
                    "metadata": {},
                    "execution_count": 59,
                    "data": {
                        "application/vnd.dataresource+json": {
                            "schema": {
                                "fields": [
                                    {
                                        "name": "(No column name)"
                                    }
                                ]
                            },
                            "data": [
                                {
                                    "0": "B00013: LOVE CORP CAR INC"
                                },
                                {
                                    "0": "B00014: NY ONE CORP CAR INC"
                                },
                                {
                                    "0": "B00029: COMMUNITY CAR SVC CORP"
                                },
                                {
                                    "0": "B00053: CHARGE AND RIDE INC"
                                },
                                {
                                    "0": "B00095: LIBERTY CAR SERVICE INC."
                                },
                                {
                                    "0": "B00221: PROFESSIONAL CAR SERVICE INC"
                                },
                                {
                                    "0": "B00227: PARK WEST EXEC. SERVICES, INC."
                                },
                                {
                                    "0": "B00248: YELLOWSTONE TRANSPORTATION INC."
                                },
                                {
                                    "0": "B00254: XYZ TWO WAY RADIO"
                                },
                                {
                                    "0": "B00280: FLEET RADIO DISPATCH CORP."
                                }
                            ]
                        },
                        "text/html": [
                            "<table>",
                            "<tr><th>(No column name)</th></tr>",
                            "<tr><td>B00013: LOVE CORP CAR INC</td></tr>",
                            "<tr><td>B00014: NY ONE CORP CAR INC</td></tr>",
                            "<tr><td>B00029: COMMUNITY CAR SVC CORP</td></tr>",
                            "<tr><td>B00053: CHARGE AND RIDE INC</td></tr>",
                            "<tr><td>B00095: LIBERTY CAR SERVICE INC.</td></tr>",
                            "<tr><td>B00221: PROFESSIONAL CAR SERVICE INC</td></tr>",
                            "<tr><td>B00227: PARK WEST EXEC. SERVICES, INC.</td></tr>",
                            "<tr><td>B00248: YELLOWSTONE TRANSPORTATION INC.</td></tr>",
                            "<tr><td>B00254: XYZ TWO WAY RADIO</td></tr>",
                            "<tr><td>B00280: FLEET RADIO DISPATCH CORP.</td></tr>",
                            "</table>"
                        ]
                    }
                }
            ],
            "execution_count": 59
        }
    ]
}